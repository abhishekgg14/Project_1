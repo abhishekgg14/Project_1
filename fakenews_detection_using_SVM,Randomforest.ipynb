{
  "nbformat": 4,
  "nbformat_minor": 0,
  "metadata": {
    "colab": {
      "provenance": [],
      "authorship_tag": "ABX9TyND9v3LPAmSWMlsvIgDaLfY",
      "include_colab_link": true
    },
    "kernelspec": {
      "name": "python3",
      "display_name": "Python 3"
    },
    "language_info": {
      "name": "python"
    }
  },
  "cells": [
    {
      "cell_type": "markdown",
      "metadata": {
        "id": "view-in-github",
        "colab_type": "text"
      },
      "source": [
        "<a href=\"https://colab.research.google.com/github/abhishekgg14/Project_1/blob/main/fakenews_detection_using_SVM%2CRandomforest.ipynb\" target=\"_parent\"><img src=\"https://colab.research.google.com/assets/colab-badge.svg\" alt=\"Open In Colab\"/></a>"
      ]
    },
    {
      "cell_type": "markdown",
      "source": [
        "**Importing Libraries**"
      ],
      "metadata": {
        "id": "Pd02_5z_AWEf"
      }
    },
    {
      "cell_type": "code",
      "execution_count": 36,
      "metadata": {
        "id": "B7WiEbbp_Nv4"
      },
      "outputs": [],
      "source": [
        "import pandas as pd\n",
        "import numpy as np\n",
        "\n",
        "from sklearn.model_selection import train_test_split\n",
        "\n",
        "from sklearn.pipeline import Pipeline\n",
        "from sklearn.feature_extraction.text import CountVectorizer, TfidfTransformer\n",
        "from sklearn.metrics import accuracy_score, confusion_matrix, classification_report\n",
        "from sklearn.svm import LinearSVC\n",
        "from sklearn.ensemble import RandomForestClassifier\n",
        "\n",
        "import matplotlib.pyplot as plt\n",
        "from sklearn.model_selection import learning_curve"
      ]
    },
    {
      "cell_type": "markdown",
      "source": [
        "**Loading datasets**"
      ],
      "metadata": {
        "id": "bl87RJ2wAp3m"
      }
    },
    {
      "cell_type": "code",
      "source": [
        "# Load datasets\n",
        "true = pd.read_csv(\"/content/True.csv\", engine='python', error_bad_lines=False)\n",
        "fake = pd.read_csv(\"/content/Fake.csv\", engine='python', error_bad_lines=False)"
      ],
      "metadata": {
        "colab": {
          "base_uri": "https://localhost:8080/"
        },
        "id": "DuTi6s5cANv2",
        "outputId": "799c8e7c-2ac5-4039-84a1-860597b9937e"
      },
      "execution_count": 2,
      "outputs": [
        {
          "output_type": "stream",
          "name": "stderr",
          "text": [
            "<ipython-input-2-285531fb2dc8>:2: FutureWarning: The error_bad_lines argument has been deprecated and will be removed in a future version. Use on_bad_lines in the future.\n",
            "\n",
            "\n",
            "  true = pd.read_csv(\"/content/True.csv\", engine='python', error_bad_lines=False)\n",
            "<ipython-input-2-285531fb2dc8>:3: FutureWarning: The error_bad_lines argument has been deprecated and will be removed in a future version. Use on_bad_lines in the future.\n",
            "\n",
            "\n",
            "  fake = pd.read_csv(\"/content/Fake.csv\", engine='python', error_bad_lines=False)\n"
          ]
        }
      ]
    },
    {
      "cell_type": "markdown",
      "source": [
        "**Labeling**"
      ],
      "metadata": {
        "id": "4ASXrB1JByxi"
      }
    },
    {
      "cell_type": "code",
      "source": [
        "fake['target'] = 'fake'\n",
        "true['target'] = 'true'\n",
        "#adding new column target and labeling fake for fake dataset and true for true dataset"
      ],
      "metadata": {
        "id": "o7MzCtMpBtt8"
      },
      "execution_count": 4,
      "outputs": []
    },
    {
      "cell_type": "code",
      "source": [
        "print(fake)"
      ],
      "metadata": {
        "colab": {
          "base_uri": "https://localhost:8080/"
        },
        "id": "ssXGx9OzCc-P",
        "outputId": "887ff623-65df-4758-aa98-fe60f869cd56"
      },
      "execution_count": 5,
      "outputs": [
        {
          "output_type": "stream",
          "name": "stdout",
          "text": [
            "                                                   title  \\\n",
            "0       Donald Trump Sends Out Embarrassing New Year’...   \n",
            "1       Drunk Bragging Trump Staffer Started Russian ...   \n",
            "2       Sheriff David Clarke Becomes An Internet Joke...   \n",
            "3       Trump Is So Obsessed He Even Has Obama’s Name...   \n",
            "4       Pope Francis Just Called Out Donald Trump Dur...   \n",
            "...                                                  ...   \n",
            "23476  McPain: John McCain Furious That Iran Treated ...   \n",
            "23477  JUSTICE? Yahoo Settles E-mail Privacy Class-ac...   \n",
            "23478  Sunnistan: US and Allied ‘Safe Zone’ Plan to T...   \n",
            "23479  How to Blow $700 Million: Al Jazeera America F...   \n",
            "23480  10 U.S. Navy Sailors Held by Iranian Military ...   \n",
            "\n",
            "                                                    text      subject  \\\n",
            "0      Donald Trump just couldn t wish all Americans ...         News   \n",
            "1      House Intelligence Committee Chairman Devin Nu...         News   \n",
            "2      On Friday, it was revealed that former Milwauk...         News   \n",
            "3      On Christmas day, Donald Trump announced that ...         News   \n",
            "4      Pope Francis used his annual Christmas Day mes...         News   \n",
            "...                                                  ...          ...   \n",
            "23476  21st Century Wire says As 21WIRE reported earl...  Middle-east   \n",
            "23477  21st Century Wire says It s a familiar theme. ...  Middle-east   \n",
            "23478  Patrick Henningsen  21st Century WireRemember ...  Middle-east   \n",
            "23479  21st Century Wire says Al Jazeera America will...  Middle-east   \n",
            "23480  21st Century Wire says As 21WIRE predicted in ...  Middle-east   \n",
            "\n",
            "                    date target  \n",
            "0      December 31, 2017   fake  \n",
            "1      December 31, 2017   fake  \n",
            "2      December 30, 2017   fake  \n",
            "3      December 29, 2017   fake  \n",
            "4      December 25, 2017   fake  \n",
            "...                  ...    ...  \n",
            "23476   January 16, 2016   fake  \n",
            "23477   January 16, 2016   fake  \n",
            "23478   January 15, 2016   fake  \n",
            "23479   January 14, 2016   fake  \n",
            "23480   January 12, 2016   fake  \n",
            "\n",
            "[23481 rows x 5 columns]\n"
          ]
        }
      ]
    },
    {
      "cell_type": "code",
      "source": [
        "print(true)"
      ],
      "metadata": {
        "colab": {
          "base_uri": "https://localhost:8080/"
        },
        "id": "bByJhnq6CmsH",
        "outputId": "8be25649-9c62-4c32-ae00-059e5d127b30"
      },
      "execution_count": 6,
      "outputs": [
        {
          "output_type": "stream",
          "name": "stdout",
          "text": [
            "                                                   title  \\\n",
            "0      As U.S. budget fight looms, Republicans flip t...   \n",
            "1      U.S. military to accept transgender recruits o...   \n",
            "2      Senior U.S. Republican senator: 'Let Mr. Muell...   \n",
            "3      FBI Russia probe helped by Australian diplomat...   \n",
            "4      Trump wants Postal Service to charge 'much mor...   \n",
            "...                                                  ...   \n",
            "21412  'Fully committed' NATO backs new U.S. approach...   \n",
            "21413  LexisNexis withdrew two products from Chinese ...   \n",
            "21414  Minsk cultural hub becomes haven from authorities   \n",
            "21415  Vatican upbeat on possibility of Pope Francis ...   \n",
            "21416  Indonesia to buy $1.14 billion worth of Russia...   \n",
            "\n",
            "                                                    text       subject  \\\n",
            "0      WASHINGTON (Reuters) - The head of a conservat...  politicsNews   \n",
            "1      WASHINGTON (Reuters) - Transgender people will...  politicsNews   \n",
            "2      WASHINGTON (Reuters) - The special counsel inv...  politicsNews   \n",
            "3      WASHINGTON (Reuters) - Trump campaign adviser ...  politicsNews   \n",
            "4      SEATTLE/WASHINGTON (Reuters) - President Donal...  politicsNews   \n",
            "...                                                  ...           ...   \n",
            "21412  BRUSSELS (Reuters) - NATO allies on Tuesday we...     worldnews   \n",
            "21413  LONDON (Reuters) - LexisNexis, a provider of l...     worldnews   \n",
            "21414  MINSK (Reuters) - In the shadow of disused Sov...     worldnews   \n",
            "21415  MOSCOW (Reuters) - Vatican Secretary of State ...     worldnews   \n",
            "21416  JAKARTA (Reuters) - Indonesia will buy 11 Sukh...     worldnews   \n",
            "\n",
            "                     date target  \n",
            "0      December 31, 2017    true  \n",
            "1      December 29, 2017    true  \n",
            "2      December 31, 2017    true  \n",
            "3      December 30, 2017    true  \n",
            "4      December 29, 2017    true  \n",
            "...                   ...    ...  \n",
            "21412    August 22, 2017    true  \n",
            "21413    August 22, 2017    true  \n",
            "21414    August 22, 2017    true  \n",
            "21415    August 22, 2017    true  \n",
            "21416    August 22, 2017    true  \n",
            "\n",
            "[21417 rows x 5 columns]\n"
          ]
        }
      ]
    },
    {
      "cell_type": "markdown",
      "source": [
        "**Merging**"
      ],
      "metadata": {
        "id": "-Ltz0OR3CMJF"
      }
    },
    {
      "cell_type": "code",
      "source": [
        "news = pd.concat([fake, true]).reset_index(drop=True)\n",
        "#merging both the true and fake datasets"
      ],
      "metadata": {
        "id": "fv_FljA0CIGP"
      },
      "execution_count": 8,
      "outputs": []
    },
    {
      "cell_type": "code",
      "source": [
        "news.dropna()"
      ],
      "metadata": {
        "id": "srY09rNQLrsc"
      },
      "execution_count": null,
      "outputs": []
    },
    {
      "cell_type": "code",
      "source": [
        "print(news)"
      ],
      "metadata": {
        "colab": {
          "base_uri": "https://localhost:8080/"
        },
        "id": "A8bcOWxjCqK8",
        "outputId": "1d0d550f-d194-42d0-a6d8-d0aa7f8da239"
      },
      "execution_count": 9,
      "outputs": [
        {
          "output_type": "stream",
          "name": "stdout",
          "text": [
            "                                                   title  \\\n",
            "0       Donald Trump Sends Out Embarrassing New Year’...   \n",
            "1       Drunk Bragging Trump Staffer Started Russian ...   \n",
            "2       Sheriff David Clarke Becomes An Internet Joke...   \n",
            "3       Trump Is So Obsessed He Even Has Obama’s Name...   \n",
            "4       Pope Francis Just Called Out Donald Trump Dur...   \n",
            "...                                                  ...   \n",
            "44893  'Fully committed' NATO backs new U.S. approach...   \n",
            "44894  LexisNexis withdrew two products from Chinese ...   \n",
            "44895  Minsk cultural hub becomes haven from authorities   \n",
            "44896  Vatican upbeat on possibility of Pope Francis ...   \n",
            "44897  Indonesia to buy $1.14 billion worth of Russia...   \n",
            "\n",
            "                                                    text    subject  \\\n",
            "0      Donald Trump just couldn t wish all Americans ...       News   \n",
            "1      House Intelligence Committee Chairman Devin Nu...       News   \n",
            "2      On Friday, it was revealed that former Milwauk...       News   \n",
            "3      On Christmas day, Donald Trump announced that ...       News   \n",
            "4      Pope Francis used his annual Christmas Day mes...       News   \n",
            "...                                                  ...        ...   \n",
            "44893  BRUSSELS (Reuters) - NATO allies on Tuesday we...  worldnews   \n",
            "44894  LONDON (Reuters) - LexisNexis, a provider of l...  worldnews   \n",
            "44895  MINSK (Reuters) - In the shadow of disused Sov...  worldnews   \n",
            "44896  MOSCOW (Reuters) - Vatican Secretary of State ...  worldnews   \n",
            "44897  JAKARTA (Reuters) - Indonesia will buy 11 Sukh...  worldnews   \n",
            "\n",
            "                    date target  \n",
            "0      December 31, 2017   fake  \n",
            "1      December 31, 2017   fake  \n",
            "2      December 30, 2017   fake  \n",
            "3      December 29, 2017   fake  \n",
            "4      December 25, 2017   fake  \n",
            "...                  ...    ...  \n",
            "44893   August 22, 2017    true  \n",
            "44894   August 22, 2017    true  \n",
            "44895   August 22, 2017    true  \n",
            "44896   August 22, 2017    true  \n",
            "44897   August 22, 2017    true  \n",
            "\n",
            "[44898 rows x 5 columns]\n"
          ]
        }
      ]
    },
    {
      "cell_type": "markdown",
      "source": [
        "**Spliting train and test data**"
      ],
      "metadata": {
        "id": "Ypspt6MWCvjx"
      }
    },
    {
      "cell_type": "code",
      "source": [
        "x_train, x_test, y_train, y_test = train_test_split(news['text'], news.target, test_size=0.2, random_state=1)"
      ],
      "metadata": {
        "id": "St3ZucR6CUy4"
      },
      "execution_count": 10,
      "outputs": []
    },
    {
      "cell_type": "markdown",
      "source": [
        "**Pipeline for SVM model**"
      ],
      "metadata": {
        "id": "Ghws1nitDADi"
      }
    },
    {
      "cell_type": "code",
      "source": [
        "pipe_svm = Pipeline([\n",
        "    ('vect', CountVectorizer()),\n",
        "    ('tfidf', TfidfTransformer()),\n",
        "    ('model', LinearSVC())\n",
        "])\n"
      ],
      "metadata": {
        "id": "B8L5ZBaAC6sc"
      },
      "execution_count": 11,
      "outputs": []
    },
    {
      "cell_type": "markdown",
      "source": [
        "**Training SVM**"
      ],
      "metadata": {
        "id": "DaBbF7EWDSya"
      }
    },
    {
      "cell_type": "code",
      "source": [
        "model_svm = pipe_svm.fit(x_train.astype('U'), y_train.astype('U'))"
      ],
      "metadata": {
        "id": "X0A9zQG6DSiq"
      },
      "execution_count": 13,
      "outputs": []
    },
    {
      "cell_type": "markdown",
      "source": [
        "**Evaluate SVM**"
      ],
      "metadata": {
        "id": "NldJDP6DDhWn"
      }
    },
    {
      "cell_type": "code",
      "source": [
        "svm_pred = model_svm.predict(x_test.astype('U'))\n",
        "print(\"Accuracy of SVM Classifier: {}%\".format(round(accuracy_score(y_test, svm_pred)*100, 2)))\n",
        "print(\"\\nConfusion Matrix of SVM Classifier:\\n\")\n",
        "print(confusion_matrix(y_test, svm_pred))\n",
        "print(\"\\nClassification Report of SVM Classifier:\\n\")\n",
        "print(classification_report(y_test, svm_pred))\n"
      ],
      "metadata": {
        "colab": {
          "base_uri": "https://localhost:8080/"
        },
        "id": "t8qfnTTfDhBY",
        "outputId": "2981cab7-d9d8-4629-a762-1758519558f5"
      },
      "execution_count": 14,
      "outputs": [
        {
          "output_type": "stream",
          "name": "stdout",
          "text": [
            "Accuracy of SVM Classifier: 99.39%\n",
            "\n",
            "Confusion Matrix of SVM Classifier:\n",
            "\n",
            "[[4644   38]\n",
            " [  17 4281]]\n",
            "\n",
            "Classification Report of SVM Classifier:\n",
            "\n",
            "              precision    recall  f1-score   support\n",
            "\n",
            "        fake       1.00      0.99      0.99      4682\n",
            "        true       0.99      1.00      0.99      4298\n",
            "\n",
            "    accuracy                           0.99      8980\n",
            "   macro avg       0.99      0.99      0.99      8980\n",
            "weighted avg       0.99      0.99      0.99      8980\n",
            "\n"
          ]
        }
      ]
    },
    {
      "cell_type": "markdown",
      "source": [
        "*Accuracy*"
      ],
      "metadata": {
        "id": "ZKI4zjmCEoLl"
      }
    },
    {
      "cell_type": "code",
      "source": [
        "SVM=model_svm.score(x_test, y_test)\n"
      ],
      "metadata": {
        "id": "wCVb-ladDta0"
      },
      "execution_count": 28,
      "outputs": []
    },
    {
      "cell_type": "code",
      "source": [
        "print(SVM)"
      ],
      "metadata": {
        "colab": {
          "base_uri": "https://localhost:8080/"
        },
        "id": "62m_g1SvHrOU",
        "outputId": "3d2be01a-8213-47c8-d27f-a6771bd20b5d"
      },
      "execution_count": 29,
      "outputs": [
        {
          "output_type": "stream",
          "name": "stdout",
          "text": [
            "0.9938752783964365\n"
          ]
        }
      ]
    },
    {
      "cell_type": "markdown",
      "source": [
        "-------------------------"
      ],
      "metadata": {
        "id": "ekQ8AUyGKy95"
      }
    },
    {
      "cell_type": "code",
      "source": [
        "\n",
        "train_sizes, train_scores, test_scores = learning_curve(pipe_svm, x_train.astype('U'), y_train.astype('U'), cv=5, scoring='accuracy', train_sizes=np.linspace(0.1, 1.0, 10))\n",
        "\n",
        "train_scores_mean = np.mean(train_scores, axis=1)\n",
        "train_scores_std = np.std(train_scores, axis=1)\n",
        "test_scores_mean = np.mean(test_scores, axis=1)\n",
        "test_scores_std = np.std(test_scores, axis=1)\n",
        "\n",
        "plt.figure(figsize=(10, 6))\n",
        "plt.title(\"Learning Curve for SVM Classifier\")\n",
        "plt.xlabel(\"Training examples\")\n",
        "plt.ylabel(\"Score\")\n",
        "\n",
        "plt.plot(train_sizes, train_scores_mean, 'o-', color=\"r\", label=\"Training score\")\n",
        "plt.plot(train_sizes, test_scores_mean, 'o-', color=\"g\", label=\"Cross-validation score\")\n",
        "\n",
        "plt.fill_between(train_sizes, train_scores_mean - train_scores_std, train_scores_mean + train_scores_std, alpha=0.1, color=\"r\")\n",
        "plt.fill_between(train_sizes, test_scores_mean - test_scores_std, test_scores_mean + test_scores_std, alpha=0.1, color=\"g\")\n",
        "\n",
        "plt.legend(loc=\"best\")\n",
        "plt.show()\n"
      ],
      "metadata": {
        "colab": {
          "base_uri": "https://localhost:8080/",
          "height": 564
        },
        "id": "aGUg2AHpKySs",
        "outputId": "49809af4-f0e9-40d4-d3f5-0f26b8e07176"
      },
      "execution_count": 37,
      "outputs": [
        {
          "output_type": "display_data",
          "data": {
            "text/plain": [
              "<Figure size 1000x600 with 1 Axes>"
            ],
            "image/png": "[encoded data removed]"
          },
          "metadata": {}
        }
      ]
    },
    {
      "cell_type": "markdown",
      "source": [
        "**Pipeline  for Randomforest model**"
      ],
      "metadata": {
        "id": "oTRwK4KNFM2J"
      }
    },
    {
      "cell_type": "code",
      "source": [
        "\n",
        "pipe_rf = Pipeline([\n",
        "    ('vect', CountVectorizer()),\n",
        "    ('tfidf', TfidfTransformer()),\n",
        "    ('model', RandomForestClassifier())\n",
        "])"
      ],
      "metadata": {
        "id": "H4Uu42jyFNVI"
      },
      "execution_count": 16,
      "outputs": []
    },
    {
      "cell_type": "markdown",
      "source": [
        "**Training Randomforest**"
      ],
      "metadata": {
        "id": "EiUohl8nFciG"
      }
    },
    {
      "cell_type": "code",
      "source": [
        "model_rf = pipe_rf.fit(x_train.astype('U'), y_train.astype('U'))"
      ],
      "metadata": {
        "id": "jtNCT04GFsnK"
      },
      "execution_count": 18,
      "outputs": []
    },
    {
      "cell_type": "markdown",
      "source": [
        "**Evaluate Randomforest**"
      ],
      "metadata": {
        "id": "2H3WuVI4F0NC"
      }
    },
    {
      "cell_type": "code",
      "source": [
        "rf_pred = model_rf.predict(x_test.astype('U'))\n",
        "print(\"Accuracy of RandomForest Classifier: {}%\".format(round(accuracy_score(y_test, rf_pred)*100, 2)))\n",
        "print(\"\\nConfusion Matrix of RandomForest Classifier:\\n\")\n",
        "print(confusion_matrix(y_test, rf_pred))\n",
        "print(\"\\nClassification Report of RandomForest Classifier:\\n\")\n",
        "print(classification_report(y_test, rf_pred))"
      ],
      "metadata": {
        "colab": {
          "base_uri": "https://localhost:8080/"
        },
        "id": "_ismCZfLFz7V",
        "outputId": "8fb42594-02b9-41be-faca-61dbea88d3e9"
      },
      "execution_count": 38,
      "outputs": [
        {
          "output_type": "stream",
          "name": "stdout",
          "text": [
            "Accuracy of RandomForest Classifier: 98.81%\n",
            "\n",
            "Confusion Matrix of RandomForest Classifier:\n",
            "\n",
            "[[4627   55]\n",
            " [  52 4246]]\n",
            "\n",
            "Classification Report of RandomForest Classifier:\n",
            "\n",
            "              precision    recall  f1-score   support\n",
            "\n",
            "        fake       0.99      0.99      0.99      4682\n",
            "        true       0.99      0.99      0.99      4298\n",
            "\n",
            "    accuracy                           0.99      8980\n",
            "   macro avg       0.99      0.99      0.99      8980\n",
            "weighted avg       0.99      0.99      0.99      8980\n",
            "\n"
          ]
        }
      ]
    },
    {
      "cell_type": "markdown",
      "source": [
        "*Accuracy*"
      ],
      "metadata": {
        "id": "GyHD0mJAF93d"
      }
    },
    {
      "cell_type": "code",
      "source": [
        "RF=model_rf.score(x_test, y_test)"
      ],
      "metadata": {
        "id": "KXGXFPiFF9oK"
      },
      "execution_count": 26,
      "outputs": []
    },
    {
      "cell_type": "code",
      "source": [
        "print(RF)"
      ],
      "metadata": {
        "colab": {
          "base_uri": "https://localhost:8080/"
        },
        "id": "3DOfa7pOHnQm",
        "outputId": "c767ba9c-7415-4c8b-c985-e27892747e22"
      },
      "execution_count": 27,
      "outputs": [
        {
          "output_type": "stream",
          "name": "stdout",
          "text": [
            "0.9880846325167038\n"
          ]
        }
      ]
    },
    {
      "cell_type": "markdown",
      "source": [
        "**Bar chart**"
      ],
      "metadata": {
        "id": "LPVRHBieHvW4"
      }
    },
    {
      "cell_type": "code",
      "source": [
        "\n",
        "models = ['SVM', 'RandomForest']\n",
        "accuracies = [SVM, RF]\n",
        "\n",
        "plt.figure(figsize=(8, 6))\n",
        "plt.bar(models, accuracies, color=['blue', 'green'])\n",
        "plt.title('Accuracy of Fake News Classification Models')\n",
        "plt.xlabel('Models')\n",
        "plt.ylabel('Accuracy')\n",
        "plt.ylim(0.9, 1)\n",
        "\n",
        "# Display the chart\n",
        "plt.show()"
      ],
      "metadata": {
        "colab": {
          "base_uri": "https://localhost:8080/",
          "height": 564
        },
        "id": "yb3a7ksxHvAL",
        "outputId": "7755bd89-a9f7-4845-845d-d10c0f09cb10"
      },
      "execution_count": 32,
      "outputs": [
        {
          "output_type": "display_data",
          "data": {
            "text/plain": [
              "<Figure size 800x600 with 1 Axes>"
            ],
            "image/png": "[encoded data removed]"
          },
          "metadata": {}
        }
      ]
    },
    {
      "cell_type": "markdown",
      "source": [
        "**Function to classify user input**"
      ],
      "metadata": {
        "id": "oBBDbpExGnuq"
      }
    },
    {
      "cell_type": "code",
      "source": [
        "def classify_input(input_text, model):\n",
        "    input_text = pd.Series([input_text])\n",
        "    prediction = model.predict(input_text)\n",
        "    return prediction[0]\n"
      ],
      "metadata": {
        "id": "QcxpX55RGt4R"
      },
      "execution_count": 21,
      "outputs": []
    },
    {
      "cell_type": "markdown",
      "source": [
        "**Reading user input for testing**"
      ],
      "metadata": {
        "id": "Nq6QzXjMGwRQ"
      }
    },
    {
      "cell_type": "code",
      "source": [
        "user_input = input(\"Enter a news article: \")\n",
        "user_prediction_svm = classify_input(user_input, model_svm)\n",
        "user_prediction_rf = classify_input(user_input, model_rf)\n",
        "\n",
        "print(f\"The input news article is classified as SVM: {user_prediction_svm}\")\n",
        "print(f\"The input news article is classified as RandomForest: {user_prediction_rf}\")"
      ],
      "metadata": {
        "colab": {
          "base_uri": "https://localhost:8080/"
        },
        "id": "rpB7cXOUGv7e",
        "outputId": "47c7c9d8-cfe0-443a-80bb-71cfdaeef923"
      },
      "execution_count": 39,
      "outputs": [
        {
          "output_type": "stream",
          "name": "stdout",
          "text": [
            "Enter a news article: Donald Trump just couldn t wish all Americans a Happy New Year and leave it at that. Instead, he had to give a shout out to his enemies, haters and  the very dishonest fake news media.  The former reality show star had just one job to do and he couldn t do it. As our Country rapidly grows stronger and smarter, I want to wish all of my friends, supporters, enemies, haters, and even the very dishonest Fake News Media, a Happy and Healthy New Year,  President Angry Pants tweeted.  2018 will be a great year for America! As our Country rapidly grows stronger and smarter, I want to wish all of my friends, supporters, enemies, haters, and even the very dishonest Fake News Media, a Happy and Healthy New Year. 2018 will be a great year for America!  Donald J. Trump (@realDonaldTrump) December 31, 2017Trump s tweet went down about as welll as you d expect.What kind of president sends a New Year s greeting like this despicable, petty, infantile gibberish? Only Trump! His lack of decency won t even allow him to rise above the gutter long enough to wish the American citizens a happy new year!  Bishop Talbert Swan (@TalbertSwan) December 31, 2017no one likes you  Calvin (@calvinstowell) December 31, 2017Your impeachment would make 2018 a great year for America, but I ll also accept regaining control of Congress.  Miranda Yaver (@mirandayaver) December 31, 2017Do you hear yourself talk? When you have to include that many people that hate you you have to wonder? Why do the they all hate me?  Alan Sandoval (@AlanSandoval13) December 31, 2017Who uses the word Haters in a New Years wish??  Marlene (@marlene399) December 31, 2017You can t just say happy new year?  Koren pollitt (@Korencarpenter) December 31, 2017Here s Trump s New Year s Eve tweet from 2016.Happy New Year to all, including to my many enemies and those who have fought me and lost so badly they just don t know what to do. Love!  Donald J. Trump (@realDonaldTrump) December 31, 2016This is nothing new for Trump. He s been doing this for years.Trump has directed messages to his  enemies  and  haters  for New Year s, Easter, Thanksgiving, and the anniversary of 9/11. pic.twitter.com/4FPAe2KypA  Daniel Dale (@ddale8) December 31, 2017Trump s holiday tweets are clearly not presidential.How long did he work at Hallmark before becoming President?  Steven Goodine (@SGoodine) December 31, 2017He s always been like this . . . the only difference is that in the last few years, his filter has been breaking down.  Roy Schulze (@thbthttt) December 31, 2017Who, apart from a teenager uses the term haters?  Wendy (@WendyWhistles) December 31, 2017he s a fucking 5 year old  Who Knows (@rainyday80) December 31, 2017So, to all the people who voted for this a hole thinking he would change once he got into power, you were wrong! 70-year-old men don t change and now he s a year older.Photo by Andrew Burton/Getty Images.\n",
            "The input news article is classified as SVM: fake\n",
            "The input news article is classified as RandomForest: fake\n"
          ]
        }
      ]
    }
  ]
}