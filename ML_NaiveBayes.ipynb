{
  "nbformat": 4,
  "nbformat_minor": 0,
  "metadata": {
    "colab": {
      "provenance": [],
      "authorship_tag": "ABX9TyNTeJn+5bc0iuvvTFgZodNO",
      "include_colab_link": true
    },
    "kernelspec": {
      "name": "python3",
      "display_name": "Python 3"
    },
    "language_info": {
      "name": "python"
    }
  },
  "cells": [
    {
      "cell_type": "markdown",
      "metadata": {
        "id": "view-in-github",
        "colab_type": "text"
      },
      "source": [
        "<a href=\"https://colab.research.google.com/github/abhishekgg14/Project_1/blob/main/ML_NaiveBayes.ipynb\" target=\"_parent\"><img src=\"https://colab.research.google.com/assets/colab-badge.svg\" alt=\"Open In Colab\"/></a>"
      ]
    },
    {
      "cell_type": "code",
      "source": [
        "from sklearn import datasets\n",
        "from sklearn import metrics\n",
        "from sklearn import preprocessing\n",
        "import pandas as pd\n",
        "from sklearn.naive_bayes import GaussianNB\n",
        "from sklearn.model_selection import train_test_split as tts"
      ],
      "metadata": {
        "id": "XE8aF2TAKyPb"
      },
      "execution_count": 5,
      "outputs": []
    },
    {
      "cell_type": "code",
      "source": [
        "iris = datasets.load_iris()\n",
        "#renaming coloumns\n",
        "data = pd.DataFrame({\"sl\":iris.data[:,0], \"sw\":iris.data[:,1], \"pl\":iris.data[:,2], \"pw\":iris.data[:,3], 'species': iris.target})"
      ],
      "metadata": {
        "id": "lMGNAy1xONsD"
      },
      "execution_count": 6,
      "outputs": []
    },
    {
      "cell_type": "code",
      "source": [
        "print(data.head(100))"
      ],
      "metadata": {
        "colab": {
          "base_uri": "https://localhost:8080/"
        },
        "id": "xLWq5BSEORmZ",
        "outputId": "f4a797c0-6769-46da-f27c-70ddb5701e2d"
      },
      "execution_count": 7,
      "outputs": [
        {
          "output_type": "stream",
          "name": "stdout",
          "text": [
            "     sl   sw   pl   pw  species\n",
            "0   5.1  3.5  1.4  0.2        0\n",
            "1   4.9  3.0  1.4  0.2        0\n",
            "2   4.7  3.2  1.3  0.2        0\n",
            "3   4.6  3.1  1.5  0.2        0\n",
            "4   5.0  3.6  1.4  0.2        0\n",
            "..  ...  ...  ...  ...      ...\n",
            "95  5.7  3.0  4.2  1.2        1\n",
            "96  5.7  2.9  4.2  1.3        1\n",
            "97  6.2  2.9  4.3  1.3        1\n",
            "98  5.1  2.5  3.0  1.1        1\n",
            "99  5.7  2.8  4.1  1.3        1\n",
            "\n",
            "[100 rows x 5 columns]\n"
          ]
        }
      ]
    },
    {
      "cell_type": "code",
      "source": [
        "#assigning train and test data\n",
        "x=data[['sl','sw','pl','pw']]\n",
        "y=data[\"species\"]\n",
        "X_train, X_test, y_train, y_test = tts(x,y, test_size=30/100, random_state=None)"
      ],
      "metadata": {
        "id": "E_voZ5m1OT9l"
      },
      "execution_count": 8,
      "outputs": []
    },
    {
      "cell_type": "code",
      "source": [
        "# Create a Gaussian Naive Bayes classifier\n",
        "GNB = GaussianNB()"
      ],
      "metadata": {
        "id": "VV-gndADOfbF"
      },
      "execution_count": 9,
      "outputs": []
    },
    {
      "cell_type": "code",
      "source": [
        "GNB.fit(X_train, y_train)\n",
        "y_pr = GNB.predict(X_test)\n",
        "\n",
        "print(y_pr)\n",
        "#accuracy matrix and accuracy\n",
        "print(\"Acc %:\",metrics.accuracy_score(y_test, y_pr)*100)"
      ],
      "metadata": {
        "colab": {
          "base_uri": "https://localhost:8080/"
        },
        "id": "pDLBHDCoOl_h",
        "outputId": "6e5cfc13-198e-42f7-f071-81b56011f911"
      },
      "execution_count": 10,
      "outputs": [
        {
          "output_type": "stream",
          "name": "stdout",
          "text": [
            "[2 0 1 1 2 1 2 0 2 1 1 0 1 2 1 0 2 0 2 2 2 1 1 0 1 0 0 2 2 2 0 2 2 2 0 1 1\n",
            " 2 0 1 1 2 0 2 0]\n",
            "Acc %: 95.55555555555556\n"
          ]
        }
      ]
    },
    {
      "cell_type": "code",
      "source": [
        "#predicting the class of a given data\n",
        "print(GNB.predict([[5.7,2.8,4.1,1.3]]))"
      ],
      "metadata": {
        "colab": {
          "base_uri": "https://localhost:8080/"
        },
        "id": "wjtbhJHbOm6g",
        "outputId": "3ac78ebe-f009-4005-9541-4b48aefcc0da"
      },
      "execution_count": 11,
      "outputs": [
        {
          "output_type": "stream",
          "name": "stdout",
          "text": [
            "[1]\n"
          ]
        },
        {
          "output_type": "stream",
          "name": "stderr",
          "text": [
            "/usr/local/lib/python3.10/dist-packages/sklearn/base.py:439: UserWarning: X does not have valid feature names, but GaussianNB was fitted with feature names\n",
            "  warnings.warn(\n"
          ]
        }
      ]
    }
  ]
}